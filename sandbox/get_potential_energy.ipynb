{
 "cells": [
  {
   "cell_type": "code",
   "execution_count": 3,
   "id": "e78ec8c0-9f19-4c72-9e50-808fa8233f33",
   "metadata": {},
   "outputs": [
    {
     "data": {
      "application/vnd.jupyter.widget-view+json": {
       "model_id": "ab2de0442fad4dad81f51867951f0468",
       "version_major": 2,
       "version_minor": 0
      },
      "text/plain": []
     },
     "metadata": {},
     "output_type": "display_data"
    }
   ],
   "source": [
    "import molsysmt as msm\n",
    "import bifree as bfee"
   ]
  },
  {
   "cell_type": "code",
   "execution_count": 4,
   "id": "2aaa1989-76cc-4bdb-b97c-46abe845a514",
   "metadata": {},
   "outputs": [],
   "source": [
    "molecular_system = msm.convert(bfee.systems.demo['Barnase-Barstar'])"
   ]
  },
  {
   "cell_type": "code",
   "execution_count": 7,
   "id": "a37a24fb-020f-4e8e-9b6e-11d9f9d0b9fb",
   "metadata": {},
   "outputs": [
    {
     "data": {
      "text/html": [
       "<style type=\"text/css\">\n",
       "</style>\n",
       "<table id=\"T_68ffe\">\n",
       "  <thead>\n",
       "    <tr>\n",
       "      <th id=\"T_68ffe_level0_col0\" class=\"col_heading level0 col0\" >index</th>\n",
       "      <th id=\"T_68ffe_level0_col1\" class=\"col_heading level0 col1\" >name</th>\n",
       "      <th id=\"T_68ffe_level0_col2\" class=\"col_heading level0 col2\" >type</th>\n",
       "      <th id=\"T_68ffe_level0_col3\" class=\"col_heading level0 col3\" >n atoms</th>\n",
       "      <th id=\"T_68ffe_level0_col4\" class=\"col_heading level0 col4\" >n groups</th>\n",
       "      <th id=\"T_68ffe_level0_col5\" class=\"col_heading level0 col5\" >n components</th>\n",
       "      <th id=\"T_68ffe_level0_col6\" class=\"col_heading level0 col6\" >chain index</th>\n",
       "      <th id=\"T_68ffe_level0_col7\" class=\"col_heading level0 col7\" >entity index</th>\n",
       "      <th id=\"T_68ffe_level0_col8\" class=\"col_heading level0 col8\" >entity name</th>\n",
       "    </tr>\n",
       "  </thead>\n",
       "  <tbody>\n",
       "    <tr>\n",
       "      <td id=\"T_68ffe_row0_col0\" class=\"data row0 col0\" >0</td>\n",
       "      <td id=\"T_68ffe_row0_col1\" class=\"data row0 col1\" >None</td>\n",
       "      <td id=\"T_68ffe_row0_col2\" class=\"data row0 col2\" >protein</td>\n",
       "      <td id=\"T_68ffe_row0_col3\" class=\"data row0 col3\" >1727</td>\n",
       "      <td id=\"T_68ffe_row0_col4\" class=\"data row0 col4\" >110</td>\n",
       "      <td id=\"T_68ffe_row0_col5\" class=\"data row0 col5\" >1</td>\n",
       "      <td id=\"T_68ffe_row0_col6\" class=\"data row0 col6\" >0</td>\n",
       "      <td id=\"T_68ffe_row0_col7\" class=\"data row0 col7\" >0</td>\n",
       "      <td id=\"T_68ffe_row0_col8\" class=\"data row0 col8\" >Protein_0</td>\n",
       "    </tr>\n",
       "    <tr>\n",
       "      <td id=\"T_68ffe_row1_col0\" class=\"data row1 col0\" >1</td>\n",
       "      <td id=\"T_68ffe_row1_col1\" class=\"data row1 col1\" >None</td>\n",
       "      <td id=\"T_68ffe_row1_col2\" class=\"data row1 col2\" >protein</td>\n",
       "      <td id=\"T_68ffe_row1_col3\" class=\"data row1 col3\" >1432</td>\n",
       "      <td id=\"T_68ffe_row1_col4\" class=\"data row1 col4\" >89</td>\n",
       "      <td id=\"T_68ffe_row1_col5\" class=\"data row1 col5\" >1</td>\n",
       "      <td id=\"T_68ffe_row1_col6\" class=\"data row1 col6\" >1</td>\n",
       "      <td id=\"T_68ffe_row1_col7\" class=\"data row1 col7\" >1</td>\n",
       "      <td id=\"T_68ffe_row1_col8\" class=\"data row1 col8\" >Protein_1</td>\n",
       "    </tr>\n",
       "  </tbody>\n",
       "</table>\n"
      ],
      "text/plain": [
       "<pandas.io.formats.style.Styler at 0x7fdadfdee590>"
      ]
     },
     "execution_count": 7,
     "metadata": {},
     "output_type": "execute_result"
    }
   ],
   "source": [
    "msm.info(molecular_system, element='molecule')"
   ]
  },
  {
   "cell_type": "code",
   "execution_count": 10,
   "id": "55e669c5-a2dc-464a-aac6-13f4a732020e",
   "metadata": {},
   "outputs": [
    {
     "data": {
      "text/plain": [
       "array([   0,    1,    2, ..., 1724, 1725, 1726])"
      ]
     },
     "execution_count": 10,
     "metadata": {},
     "output_type": "execute_result"
    }
   ],
   "source": [
    "msm.select(molecular_system, selection='molecule_index==0')"
   ]
  },
  {
   "cell_type": "code",
   "execution_count": 11,
   "id": "27a7315d-f76e-45ed-a5d8-20ade629f30e",
   "metadata": {},
   "outputs": [
    {
     "ename": "AttributeError",
     "evalue": "'Structures' object has no attribute 'velocities'",
     "output_type": "error",
     "traceback": [
      "\u001b[0;31m---------------------------------------------------------------------------\u001b[0m",
      "\u001b[0;31mAttributeError\u001b[0m                            Traceback (most recent call last)",
      "Cell \u001b[0;32mIn[11], line 1\u001b[0m\n\u001b[0;32m----> 1\u001b[0m \u001b[43mmsm\u001b[49m\u001b[38;5;241;43m.\u001b[39;49m\u001b[43mget\u001b[49m\u001b[43m(\u001b[49m\u001b[43mmolecular_system\u001b[49m\u001b[43m,\u001b[49m\u001b[43m \u001b[49m\u001b[43melement\u001b[49m\u001b[38;5;241;43m=\u001b[39;49m\u001b[38;5;124;43m'\u001b[39;49m\u001b[38;5;124;43matom\u001b[39;49m\u001b[38;5;124;43m'\u001b[39;49m\u001b[43m,\u001b[49m\u001b[43m \u001b[49m\u001b[43mselection\u001b[49m\u001b[38;5;241;43m=\u001b[39;49m\u001b[38;5;124;43m'\u001b[39;49m\u001b[38;5;124;43mmolecule_index==0\u001b[39;49m\u001b[38;5;124;43m'\u001b[39;49m\u001b[43m,\u001b[49m\u001b[43m \u001b[49m\u001b[43matom_index\u001b[49m\u001b[38;5;241;43m=\u001b[39;49m\u001b[38;5;28;43;01mTrue\u001b[39;49;00m\u001b[43m)\u001b[49m\n",
      "File \u001b[0;32m/conda/miniconda3/envs/BiFrEE@uibcdf_3.10/lib/python3.10/site-packages/molsysmt/_private/digestion/digest.py:117\u001b[0m, in \u001b[0;36mdigest.<locals>.digestor.<locals>.wrapper\u001b[0;34m(*args, **kwargs)\u001b[0m\n\u001b[1;32m    115\u001b[0m     \u001b[38;5;28;01mreturn\u001b[39;00m func(all_args[\u001b[38;5;124m'\u001b[39m\u001b[38;5;124mself\u001b[39m\u001b[38;5;124m'\u001b[39m], \u001b[38;5;241m*\u001b[39m\u001b[38;5;241m*\u001b[39mfinal_args)\n\u001b[1;32m    116\u001b[0m \u001b[38;5;28;01melse\u001b[39;00m:\n\u001b[0;32m--> 117\u001b[0m     \u001b[38;5;28;01mreturn\u001b[39;00m \u001b[43mfunc\u001b[49m\u001b[43m(\u001b[49m\u001b[38;5;241;43m*\u001b[39;49m\u001b[38;5;241;43m*\u001b[39;49m\u001b[43mfinal_args\u001b[49m\u001b[43m)\u001b[49m\n",
      "File \u001b[0;32m/conda/miniconda3/envs/BiFrEE@uibcdf_3.10/lib/python3.10/site-packages/molsysmt/basic/get.py:170\u001b[0m, in \u001b[0;36mget\u001b[0;34m(molecular_system, element, selection, structure_indices, mask, syntax, output_type, **kwargs)\u001b[0m\n\u001b[1;32m    167\u001b[0m         element \u001b[38;5;241m=\u001b[39m \u001b[38;5;124m'\u001b[39m\u001b[38;5;124matom\u001b[39m\u001b[38;5;124m'\u001b[39m\n\u001b[1;32m    169\u001b[0m \u001b[38;5;28;01mif\u001b[39;00m \u001b[38;5;129;01mnot\u001b[39;00m is_all(selection):\n\u001b[0;32m--> 170\u001b[0m     indices \u001b[38;5;241m=\u001b[39m \u001b[43mselect\u001b[49m\u001b[43m(\u001b[49m\u001b[43mmolecular_system\u001b[49m\u001b[43m,\u001b[49m\u001b[43m \u001b[49m\u001b[43melement\u001b[49m\u001b[38;5;241;43m=\u001b[39;49m\u001b[43melement\u001b[49m\u001b[43m,\u001b[49m\u001b[43m \u001b[49m\u001b[43mselection\u001b[49m\u001b[38;5;241;43m=\u001b[39;49m\u001b[43mselection\u001b[49m\u001b[43m,\u001b[49m\u001b[43m \u001b[49m\u001b[43mmask\u001b[49m\u001b[38;5;241;43m=\u001b[39;49m\u001b[43mmask\u001b[49m\u001b[43m,\u001b[49m\u001b[43m \u001b[49m\u001b[43msyntax\u001b[49m\u001b[38;5;241;43m=\u001b[39;49m\u001b[43msyntax\u001b[49m\u001b[43m)\u001b[49m\n\u001b[1;32m    171\u001b[0m \u001b[38;5;28;01melse\u001b[39;00m:\n\u001b[1;32m    172\u001b[0m     \u001b[38;5;28;01mif\u001b[39;00m (mask \u001b[38;5;129;01mis\u001b[39;00m \u001b[38;5;28;01mNone\u001b[39;00m) \u001b[38;5;129;01mor\u001b[39;00m (is_all(mask)):\n",
      "File \u001b[0;32m/conda/miniconda3/envs/BiFrEE@uibcdf_3.10/lib/python3.10/site-packages/molsysmt/_private/digestion/digest.py:117\u001b[0m, in \u001b[0;36mdigest.<locals>.digestor.<locals>.wrapper\u001b[0;34m(*args, **kwargs)\u001b[0m\n\u001b[1;32m    115\u001b[0m     \u001b[38;5;28;01mreturn\u001b[39;00m func(all_args[\u001b[38;5;124m'\u001b[39m\u001b[38;5;124mself\u001b[39m\u001b[38;5;124m'\u001b[39m], \u001b[38;5;241m*\u001b[39m\u001b[38;5;241m*\u001b[39mfinal_args)\n\u001b[1;32m    116\u001b[0m \u001b[38;5;28;01melse\u001b[39;00m:\n\u001b[0;32m--> 117\u001b[0m     \u001b[38;5;28;01mreturn\u001b[39;00m \u001b[43mfunc\u001b[49m\u001b[43m(\u001b[49m\u001b[38;5;241;43m*\u001b[39;49m\u001b[38;5;241;43m*\u001b[39;49m\u001b[43mfinal_args\u001b[49m\u001b[43m)\u001b[49m\n",
      "File \u001b[0;32m/conda/miniconda3/envs/BiFrEE@uibcdf_3.10/lib/python3.10/site-packages/molsysmt/basic/select.py:230\u001b[0m, in \u001b[0;36mselect\u001b[0;34m(molecular_system, selection, structure_indices, element, mask, syntax, to_syntax)\u001b[0m\n\u001b[1;32m    228\u001b[0m     atom_indices \u001b[38;5;241m=\u001b[39m select_bonded_to(molecular_system, selection\u001b[38;5;241m=\u001b[39mselection, syntax\u001b[38;5;241m=\u001b[39msyntax)\n\u001b[1;32m    229\u001b[0m \u001b[38;5;28;01melse\u001b[39;00m:\n\u001b[0;32m--> 230\u001b[0m     atom_indices \u001b[38;5;241m=\u001b[39m \u001b[43mselect_standard\u001b[49m\u001b[43m(\u001b[49m\u001b[43mmolecular_system\u001b[49m\u001b[43m,\u001b[49m\u001b[43m \u001b[49m\u001b[43mselection\u001b[49m\u001b[38;5;241;43m=\u001b[39;49m\u001b[43mselection\u001b[49m\u001b[43m,\u001b[49m\u001b[43m \u001b[49m\u001b[43msyntax\u001b[49m\u001b[38;5;241;43m=\u001b[39;49m\u001b[43msyntax\u001b[49m\u001b[43m)\u001b[49m\n\u001b[1;32m    232\u001b[0m \u001b[38;5;28;01mif\u001b[39;00m element\u001b[38;5;241m==\u001b[39m\u001b[38;5;124m'\u001b[39m\u001b[38;5;124matom\u001b[39m\u001b[38;5;124m'\u001b[39m:\n\u001b[1;32m    233\u001b[0m     output_indices \u001b[38;5;241m=\u001b[39m atom_indices\n",
      "File \u001b[0;32m/conda/miniconda3/envs/BiFrEE@uibcdf_3.10/lib/python3.10/site-packages/molsysmt/basic/select.py:23\u001b[0m, in \u001b[0;36mselect_standard\u001b[0;34m(molecular_system, selection, syntax)\u001b[0m\n\u001b[1;32m     20\u001b[0m \u001b[38;5;28;01melse\u001b[39;00m:\n\u001b[1;32m     21\u001b[0m     \u001b[38;5;66;03m#aux_item, aux_form = where_is_attribute(molecular_system, 'atom_index')\u001b[39;00m\n\u001b[1;32m     22\u001b[0m     \u001b[38;5;28;01mif\u001b[39;00m syntax\u001b[38;5;241m==\u001b[39m\u001b[38;5;124m'\u001b[39m\u001b[38;5;124mMolSysMT\u001b[39m\u001b[38;5;124m'\u001b[39m:\n\u001b[0;32m---> 23\u001b[0m         atom_indices \u001b[38;5;241m=\u001b[39m \u001b[43mselect_with_MolSysMT\u001b[49m\u001b[43m(\u001b[49m\u001b[43mmolecular_system\u001b[49m\u001b[43m,\u001b[49m\u001b[43m \u001b[49m\u001b[43mselection\u001b[49m\u001b[43m)\u001b[49m\n\u001b[1;32m     24\u001b[0m     \u001b[38;5;28;01melif\u001b[39;00m syntax\u001b[38;5;241m==\u001b[39m\u001b[38;5;124m'\u001b[39m\u001b[38;5;124mMDTraj\u001b[39m\u001b[38;5;124m'\u001b[39m:\n\u001b[1;32m     25\u001b[0m         atom_indices \u001b[38;5;241m=\u001b[39m select_with_MDTraj(molecular_system, selection)\n",
      "File \u001b[0;32m/conda/miniconda3/envs/BiFrEE@uibcdf_3.10/lib/python3.10/site-packages/molsysmt/basic/select.py:315\u001b[0m, in \u001b[0;36mselect_with_MolSysMT\u001b[0;34m(item, selection)\u001b[0m\n\u001b[1;32m    313\u001b[0m     tmp_item \u001b[38;5;241m=\u001b[39m item\n\u001b[1;32m    314\u001b[0m \u001b[38;5;28;01melse\u001b[39;00m:\n\u001b[0;32m--> 315\u001b[0m     tmp_item \u001b[38;5;241m=\u001b[39m \u001b[43mconvert\u001b[49m\u001b[43m(\u001b[49m\u001b[43mitem\u001b[49m\u001b[43m,\u001b[49m\u001b[43m \u001b[49m\u001b[43mto_form\u001b[49m\u001b[38;5;241;43m=\u001b[39;49m\u001b[38;5;124;43m'\u001b[39;49m\u001b[38;5;124;43mmolsysmt.Topology\u001b[39;49m\u001b[38;5;124;43m'\u001b[39;49m\u001b[43m)\u001b[49m\n\u001b[1;32m    317\u001b[0m tmp_selection \u001b[38;5;241m=\u001b[39m selection\n\u001b[1;32m    320\u001b[0m \u001b[38;5;28;01mif\u001b[39;00m \u001b[38;5;124m'\u001b[39m\u001b[38;5;124m@\u001b[39m\u001b[38;5;124m'\u001b[39m \u001b[38;5;129;01min\u001b[39;00m selection:\n",
      "File \u001b[0;32m/conda/miniconda3/envs/BiFrEE@uibcdf_3.10/lib/python3.10/site-packages/molsysmt/_private/digestion/digest.py:117\u001b[0m, in \u001b[0;36mdigest.<locals>.digestor.<locals>.wrapper\u001b[0;34m(*args, **kwargs)\u001b[0m\n\u001b[1;32m    115\u001b[0m     \u001b[38;5;28;01mreturn\u001b[39;00m func(all_args[\u001b[38;5;124m'\u001b[39m\u001b[38;5;124mself\u001b[39m\u001b[38;5;124m'\u001b[39m], \u001b[38;5;241m*\u001b[39m\u001b[38;5;241m*\u001b[39mfinal_args)\n\u001b[1;32m    116\u001b[0m \u001b[38;5;28;01melse\u001b[39;00m:\n\u001b[0;32m--> 117\u001b[0m     \u001b[38;5;28;01mreturn\u001b[39;00m \u001b[43mfunc\u001b[49m\u001b[43m(\u001b[49m\u001b[38;5;241;43m*\u001b[39;49m\u001b[38;5;241;43m*\u001b[39;49m\u001b[43mfinal_args\u001b[49m\u001b[43m)\u001b[49m\n",
      "File \u001b[0;32m/conda/miniconda3/envs/BiFrEE@uibcdf_3.10/lib/python3.10/site-packages/molsysmt/basic/convert.py:490\u001b[0m, in \u001b[0;36mconvert\u001b[0;34m(molecular_system, to_form, selection, structure_indices, syntax, verbose, **kwargs)\u001b[0m\n\u001b[1;32m    488\u001b[0m     \u001b[38;5;66;03m# general conversion\u001b[39;00m\n\u001b[1;32m    489\u001b[0m     \u001b[38;5;28;01mif\u001b[39;00m output \u001b[38;5;129;01mis\u001b[39;00m \u001b[38;5;28;01mNone\u001b[39;00m:\n\u001b[0;32m--> 490\u001b[0m         output \u001b[38;5;241m=\u001b[39m \u001b[43m_convert_multiple_to_one\u001b[49m\u001b[43m(\u001b[49m\u001b[43mmolecular_system\u001b[49m\u001b[43m,\u001b[49m\u001b[43m \u001b[49m\u001b[43mto_form\u001b[49m\u001b[38;5;241;43m=\u001b[39;49m\u001b[43mto_form\u001b[49m\u001b[43m,\u001b[49m\u001b[43m \u001b[49m\u001b[43mselection\u001b[49m\u001b[38;5;241;43m=\u001b[39;49m\u001b[43mselection\u001b[49m\u001b[43m,\u001b[49m\u001b[43m \u001b[49m\u001b[43mstructure_indices\u001b[49m\u001b[38;5;241;43m=\u001b[39;49m\u001b[43mstructure_indices\u001b[49m\u001b[43m,\u001b[49m\n\u001b[1;32m    491\u001b[0m \u001b[43m            \u001b[49m\u001b[43msyntax\u001b[49m\u001b[38;5;241;43m=\u001b[39;49m\u001b[43msyntax\u001b[49m\u001b[43m,\u001b[49m\u001b[43m \u001b[49m\u001b[43mverbose\u001b[49m\u001b[38;5;241;43m=\u001b[39;49m\u001b[43mverbose\u001b[49m\u001b[43m,\u001b[49m\u001b[43m \u001b[49m\u001b[38;5;241;43m*\u001b[39;49m\u001b[38;5;241;43m*\u001b[39;49m\u001b[43mkwargs\u001b[49m\u001b[43m)\u001b[49m\n\u001b[1;32m    493\u001b[0m \u001b[38;5;66;03m# Returning the output\u001b[39;00m\n\u001b[1;32m    495\u001b[0m \u001b[38;5;28;01mif\u001b[39;00m output \u001b[38;5;129;01mis\u001b[39;00m \u001b[38;5;28;01mNone\u001b[39;00m:\n",
      "File \u001b[0;32m/conda/miniconda3/envs/BiFrEE@uibcdf_3.10/lib/python3.10/site-packages/molsysmt/basic/convert.py:176\u001b[0m, in \u001b[0;36m_convert_multiple_to_one\u001b[0;34m(molecular_system, to_form, selection, structure_indices, syntax, verbose, **kwargs)\u001b[0m\n\u001b[1;32m    174\u001b[0m \u001b[38;5;28;01mfor\u001b[39;00m ii,jj \u001b[38;5;129;01min\u001b[39;00m _dict_modules[from_form]\u001b[38;5;241m.\u001b[39mattributes\u001b[38;5;241m.\u001b[39mitems():\n\u001b[1;32m    175\u001b[0m     \u001b[38;5;28;01mif\u001b[39;00m jj:\n\u001b[0;32m--> 176\u001b[0m         \u001b[38;5;28;01mif\u001b[39;00m \u001b[43m_dict_modules\u001b[49m\u001b[43m[\u001b[49m\u001b[43mfrom_form\u001b[49m\u001b[43m]\u001b[49m\u001b[38;5;241;43m.\u001b[39;49m\u001b[43mhas_attribute\u001b[49m\u001b[43m(\u001b[49m\u001b[43mfrom_item\u001b[49m\u001b[43m,\u001b[49m\u001b[43m \u001b[49m\u001b[43mii\u001b[49m\u001b[43m)\u001b[49m:\n\u001b[1;32m    177\u001b[0m             aux_set\u001b[38;5;241m.\u001b[39madd(ii)\n\u001b[1;32m    178\u001b[0m from_attributes\u001b[38;5;241m.\u001b[39mappend(aux_set)\n",
      "File \u001b[0;32m/conda/miniconda3/envs/BiFrEE@uibcdf_3.10/lib/python3.10/site-packages/molsysmt/_private/digestion/digest.py:117\u001b[0m, in \u001b[0;36mdigest.<locals>.digestor.<locals>.wrapper\u001b[0;34m(*args, **kwargs)\u001b[0m\n\u001b[1;32m    115\u001b[0m     \u001b[38;5;28;01mreturn\u001b[39;00m func(all_args[\u001b[38;5;124m'\u001b[39m\u001b[38;5;124mself\u001b[39m\u001b[38;5;124m'\u001b[39m], \u001b[38;5;241m*\u001b[39m\u001b[38;5;241m*\u001b[39mfinal_args)\n\u001b[1;32m    116\u001b[0m \u001b[38;5;28;01melse\u001b[39;00m:\n\u001b[0;32m--> 117\u001b[0m     \u001b[38;5;28;01mreturn\u001b[39;00m \u001b[43mfunc\u001b[49m\u001b[43m(\u001b[49m\u001b[38;5;241;43m*\u001b[39;49m\u001b[38;5;241;43m*\u001b[39;49m\u001b[43mfinal_args\u001b[49m\u001b[43m)\u001b[49m\n",
      "File \u001b[0;32m/conda/miniconda3/envs/BiFrEE@uibcdf_3.10/lib/python3.10/site-packages/molsysmt/form/molsysmt_MolSys/has_attribute.py:45\u001b[0m, in \u001b[0;36mhas_attribute\u001b[0;34m(molecular_system, attribute)\u001b[0m\n\u001b[1;32m     42\u001b[0m         output \u001b[38;5;241m=\u001b[39m \u001b[38;5;28;01mFalse\u001b[39;00m\n\u001b[1;32m     44\u001b[0m \u001b[38;5;28;01melif\u001b[39;00m attribute\u001b[38;5;241m==\u001b[39m\u001b[38;5;124m'\u001b[39m\u001b[38;5;124mvelocities\u001b[39m\u001b[38;5;124m'\u001b[39m:\n\u001b[0;32m---> 45\u001b[0m     \u001b[38;5;28;01mif\u001b[39;00m \u001b[43mmolecular_system\u001b[49m\u001b[38;5;241;43m.\u001b[39;49m\u001b[43mstructures\u001b[49m\u001b[38;5;241;43m.\u001b[39;49m\u001b[43mvelocities\u001b[49m \u001b[38;5;129;01mis\u001b[39;00m \u001b[38;5;28;01mNone\u001b[39;00m:\n\u001b[1;32m     46\u001b[0m         output \u001b[38;5;241m=\u001b[39m \u001b[38;5;28;01mFalse\u001b[39;00m\n\u001b[1;32m     48\u001b[0m \u001b[38;5;28;01melif\u001b[39;00m attribute\u001b[38;5;241m==\u001b[39m\u001b[38;5;124m'\u001b[39m\u001b[38;5;124mtime\u001b[39m\u001b[38;5;124m'\u001b[39m:\n",
      "\u001b[0;31mAttributeError\u001b[0m: 'Structures' object has no attribute 'velocities'"
     ]
    }
   ],
   "source": [
    "msm.get(molecular_system, element='atom', selection='molecule_index==0', atom_index=True)"
   ]
  },
  {
   "cell_type": "code",
   "execution_count": null,
   "id": "072caf90-5984-4e72-9419-6b26d85198d6",
   "metadata": {},
   "outputs": [],
   "source": []
  }
 ],
 "metadata": {
  "kernelspec": {
   "display_name": "Python 3 (ipykernel)",
   "language": "python",
   "name": "python3"
  },
  "language_info": {
   "codemirror_mode": {
    "name": "ipython",
    "version": 3
   },
   "file_extension": ".py",
   "mimetype": "text/x-python",
   "name": "python",
   "nbconvert_exporter": "python",
   "pygments_lexer": "ipython3",
   "version": "3.10.12"
  }
 },
 "nbformat": 4,
 "nbformat_minor": 5
}
